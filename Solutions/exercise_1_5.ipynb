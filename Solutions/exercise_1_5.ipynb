{
 "cells": [
  {
   "cell_type": "markdown",
   "metadata": {},
   "source": [
    "## Exercise 1.5\n",
    "\n",
    "Write code that processes a segment of an input signal and evaluates the following characteristics:\n",
    "\n",
    "1. Energy\n",
    "2. Zero-cross rate\n",
    "3. Mean\n",
    "4. Variance\n",
    "\n",
    "The program should allow setting the positions of the first and the last samples of a signal segment to process"
   ]
  },
  {
   "cell_type": "code",
   "execution_count": 1,
   "metadata": {
    "collapsed": true
   },
   "outputs": [],
   "source": [
    "import numpy as np\n",
    "import scipy as sp\n",
    "import matplotlib.pyplot as plt"
   ]
  },
  {
   "cell_type": "code",
   "execution_count": 2,
   "metadata": {
    "collapsed": true
   },
   "outputs": [],
   "source": [
    "def mean(a):\n",
    "    return np.sum(a) / np.size(a)\n",
    "\n",
    "def variance(a):\n",
    "    mu = mean(a)\n",
    "    return np.sum((a - mu) ** 2) / np.size(a)\n",
    "\n",
    "def variance_unbiased(a):\n",
    "    mu = mean(a)\n",
    "    return np.sum((a - mu) **2) / (np.size(a) - 1)\n",
    "\n",
    "def energy(a):\n",
    "    return np.sum(a ** 2) / np.size(a)\n",
    "\n",
    "def zero_cross_rate(a):\n",
    "    signs = np.sign(a)          # normalize onto [-1,0,1]\n",
    "    signs[signs == 0] = -1      # normalize onto [-1,1]\n",
    "\n",
    "    return len(np.where(np.diff(signs))[0]) / float(np.size(a))\n"
   ]
  },
  {
   "cell_type": "markdown",
   "metadata": {},
   "source": [
    "Signals from *exercise 1.3*:"
   ]
  },
  {
   "cell_type": "code",
   "execution_count": 3,
   "metadata": {
    "collapsed": true
   },
   "outputs": [],
   "source": [
    "t = 0.6      # duration: 600 milliseconds\n",
    "fs = 16000   # sampling frequency: 16000 Hz\n",
    "\n",
    "sample_count = int(t * fs)\n",
    "\n",
    "# amplitudes:\n",
    "amps = [2, 3, 1]\n",
    "\n",
    "# frequency components:\n",
    "freqs = [900, 1400, 6100]\n",
    "\n",
    "# initial signal (s1)\n",
    "n = np.arange(sample_count)\n",
    "\n",
    "# sum of all (three) sinusoids\n",
    "s1 = sum([a * np.sin(2 * np.pi * n * f / fs) for f, a in zip(freqs, amps)])\n",
    "\n",
    "\n",
    "mu = 0\n",
    "sigma = np.sqrt(max(amps))\n",
    "\n",
    "sn = np.random.normal(mu, sigma, sample_count)\n"
   ]
  },
  {
   "cell_type": "markdown",
   "metadata": {},
   "source": [
    "Time-domain features:"
   ]
  },
  {
   "cell_type": "code",
   "execution_count": 4,
   "metadata": {
    "collapsed": false
   },
   "outputs": [
    {
     "name": "stdout",
     "output_type": "stream",
     "text": [
      "\n",
      "MEASUREMENTS FOR INITIAL SIGNAL S1:\n",
      "\n",
      "Mean (SciPy) = -0.08786334142809192\n",
      "Mean (User-defined) = -0.08786334142809192\n",
      "\n",
      "Variance (SciPy) = 6.8575562950297675\n",
      "Variance (User-defined) = 6.8575562950297675\n",
      "\n",
      "Energy = 6.865276261796677\n",
      "\n",
      "ZeroCrossRate = 0.18\n",
      "\n",
      "\n",
      "MEASUREMENTS FOR NOISY SIGNAL SN:\n",
      "\n",
      "Mean (SciPy) = 0.06811244332269674\n",
      "Mean (User-defined) = 0.06811244332269674\n",
      "\n",
      "Variance (SciPy) = 3.269598073593631\n",
      "Variance (User-defined) = 3.269598073593631\n",
      "\n",
      "Energy = 3.274237378529019\n",
      "\n",
      "ZeroCrossRate = 0.57\n",
      "\n"
     ]
    }
   ],
   "source": [
    "left = 200\n",
    "right = 300\n",
    "\n",
    "\n",
    "print('\\nMEASUREMENTS FOR INITIAL SIGNAL S1:\\n')\n",
    "\n",
    "print('Mean (SciPy) = {0}\\nMean (User-defined) = {1}\\n'\n",
    "      .format(sp.mean(s1[left:right]),mean(s1[left:right])))\n",
    "\n",
    "print('Variance (SciPy) = {0}\\nVariance (User-defined) = {1}\\n'\n",
    "      .format(sp.var(s1[left:right]), variance(s1[left:right])))\n",
    "\n",
    "print('Energy = {0}\\n'.format(energy(s1[left:right])))\n",
    "print('ZeroCrossRate = {0}\\n'.format(zero_cross_rate(s1[left:right])))\n",
    "\n",
    "\n",
    "print('\\nMEASUREMENTS FOR NOISY SIGNAL SN:\\n')\n",
    "\n",
    "print('Mean (SciPy) = {0}\\nMean (User-defined) = {1}\\n'\n",
    "      .format(sp.mean(sn[left:right]),mean(sn[left:right])))\n",
    "\n",
    "print('Variance (SciPy) = {0}\\nVariance (User-defined) = {1}\\n'\n",
    "      .format(sp.var(sn[left:right]), variance(sn[left:right])))\n",
    "\n",
    "print('Energy = {0}\\n'.format(energy(sn[left:right])))\n",
    "print('ZeroCrossRate = {0}\\n'.format(zero_cross_rate(sn[left:right])))\n"
   ]
  }
 ],
 "metadata": {
  "anaconda-cloud": {},
  "kernelspec": {
   "display_name": "Python [default]",
   "language": "python",
   "name": "python3"
  },
  "language_info": {
   "codemirror_mode": {
    "name": "ipython",
    "version": 3
   },
   "file_extension": ".py",
   "mimetype": "text/x-python",
   "name": "python",
   "nbconvert_exporter": "python",
   "pygments_lexer": "ipython3",
   "version": "3.5.2"
  }
 },
 "nbformat": 4,
 "nbformat_minor": 1
}
